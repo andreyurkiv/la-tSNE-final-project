{
 "cells": [
  {
   "cell_type": "markdown",
   "metadata": {},
   "source": [
    "## import own implementation of $t$-SNE"
   ]
  },
  {
   "cell_type": "code",
   "execution_count": 1,
   "metadata": {
    "ExecuteTime": {
     "end_time": "2019-01-19T02:10:31.048068Z",
     "start_time": "2019-01-19T02:10:30.896554Z"
    }
   },
   "outputs": [],
   "source": [
    "from tSNE import tSNE"
   ]
  },
  {
   "cell_type": "code",
   "execution_count": 11,
   "metadata": {
    "ExecuteTime": {
     "end_time": "2019-01-19T02:10:46.885850Z",
     "start_time": "2019-01-19T02:10:46.709120Z"
    }
   },
   "outputs": [],
   "source": [
    "# random_seed = None\n",
    "random_seed = 2019"
   ]
  },
  {
   "cell_type": "code",
   "execution_count": 12,
   "metadata": {
    "ExecuteTime": {
     "end_time": "2019-01-19T02:10:47.372261Z",
     "start_time": "2019-01-19T02:10:47.309957Z"
    }
   },
   "outputs": [
    {
     "data": {
      "text/plain": [
       "t-SNE(self.out_dims=2, self.perplexity=30.0,\n",
       "      self.learning_rate=200.0, self.n_iter=1000,\n",
       "      self.min_grad_norm=1e-07, self.random_seed=2019)"
      ]
     },
     "execution_count": 12,
     "metadata": {},
     "output_type": "execute_result"
    }
   ],
   "source": [
    "tsne = tSNE(random_seed=random_seed)\n",
    "tsne"
   ]
  },
  {
   "cell_type": "markdown",
   "metadata": {
    "heading_collapsed": true
   },
   "source": [
    "## form sample data"
   ]
  },
  {
   "cell_type": "code",
   "execution_count": 4,
   "metadata": {
    "ExecuteTime": {
     "end_time": "2019-01-19T02:10:34.792363Z",
     "start_time": "2019-01-19T02:10:34.609519Z"
    },
    "hidden": true
   },
   "outputs": [],
   "source": [
    "import random as rd"
   ]
  },
  {
   "cell_type": "code",
   "execution_count": 5,
   "metadata": {
    "ExecuteTime": {
     "end_time": "2019-01-19T02:10:34.932431Z",
     "start_time": "2019-01-19T02:10:34.846193Z"
    },
    "hidden": true
   },
   "outputs": [],
   "source": [
    "n_dim = 100\n",
    "n_samples = 1000"
   ]
  },
  {
   "cell_type": "code",
   "execution_count": 6,
   "metadata": {
    "ExecuteTime": {
     "end_time": "2019-01-19T02:10:35.491122Z",
     "start_time": "2019-01-19T02:10:35.352787Z"
    },
    "hidden": true
   },
   "outputs": [
    {
     "data": {
      "text/plain": [
       "(1000, 100)"
      ]
     },
     "execution_count": 6,
     "metadata": {},
     "output_type": "execute_result"
    }
   ],
   "source": [
    "rd.seed(2019)\n",
    "\n",
    "X = np.array([np.array([rd.random() for _ in range(n_dim)]) for _ in range(n_samples)])\n",
    "X.shape"
   ]
  },
  {
   "cell_type": "markdown",
   "metadata": {},
   "source": [
    "## algorithm in action, actually"
   ]
  },
  {
   "cell_type": "code",
   "execution_count": 13,
   "metadata": {
    "ExecuteTime": {
     "end_time": "2019-01-19T02:10:51.132192Z",
     "start_time": "2019-01-19T02:10:50.969572Z"
    }
   },
   "outputs": [
    {
     "data": {
      "text/plain": [
       "(1000, 2)"
      ]
     },
     "execution_count": 13,
     "metadata": {},
     "output_type": "execute_result"
    }
   ],
   "source": [
    "X_out = tsne.fit_transform(X)\n",
    "X_out.shape"
   ]
  },
  {
   "cell_type": "code",
   "execution_count": 14,
   "metadata": {
    "ExecuteTime": {
     "end_time": "2019-01-19T02:10:52.027108Z",
     "start_time": "2019-01-19T02:10:51.942151Z"
    }
   },
   "outputs": [
    {
     "data": {
      "text/plain": [
       "array([[-0.21767896,  0.82145535],\n",
       "       [ 1.48127781,  1.33186404],\n",
       "       [-0.36186537,  0.68560883]])"
      ]
     },
     "execution_count": 14,
     "metadata": {},
     "output_type": "execute_result"
    }
   ],
   "source": [
    "X_out[:3]"
   ]
  },
  {
   "cell_type": "code",
   "execution_count": null,
   "metadata": {},
   "outputs": [],
   "source": []
  }
 ],
 "metadata": {
  "kernelspec": {
   "display_name": "Python 3",
   "language": "python",
   "name": "python3"
  },
  "language_info": {
   "codemirror_mode": {
    "name": "ipython",
    "version": 3
   },
   "file_extension": ".py",
   "mimetype": "text/x-python",
   "name": "python",
   "nbconvert_exporter": "python",
   "pygments_lexer": "ipython3",
   "version": "3.6.7"
  },
  "toc": {
   "base_numbering": 1,
   "nav_menu": {},
   "number_sections": true,
   "sideBar": true,
   "skip_h1_title": false,
   "title_cell": "Table of Contents",
   "title_sidebar": "Contents",
   "toc_cell": false,
   "toc_position": {},
   "toc_section_display": true,
   "toc_window_display": false
  }
 },
 "nbformat": 4,
 "nbformat_minor": 2
}
