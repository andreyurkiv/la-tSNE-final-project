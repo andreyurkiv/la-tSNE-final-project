{
 "cells": [
  {
   "cell_type": "markdown",
   "metadata": {},
   "source": [
    "## Interim Report"
   ]
  },
  {
   "cell_type": "markdown",
   "metadata": {},
   "source": [
    "#### A clear statement of the topic:"
   ]
  },
  {
   "cell_type": "markdown",
   "metadata": {},
   "source": [
    "    Visualization of high-dimentional data using t-SNE algorithm"
   ]
  },
  {
   "cell_type": "markdown",
   "metadata": {},
   "source": [
    "#### Description of the problem you will discuss:"
   ]
  },
  {
   "cell_type": "markdown",
   "metadata": {},
   "source": [
    "    Data visualization is one of the most important parts of applied data analysis nowadays. Without proper visualization it's hard, or sometimes even impossible to inteprete the data in the appropriate way or make reasonable inferences. Dealing with datasets that contain more than 3 attributes start causing problems, because it's not possible to apply standard visualization techniques to data in 4-dimentional space. For humans, it's even hard to perceive graphical information in 3-dimentional space, that's why the majority of classic techniqes of data visualization are restricted to two dimentions. \n",
    "    \n",
    "    Modern data often contains hundreds or even thousands of features. And it is impossible to leverage classical approaches of data visualization for it. That's the reason why so many different techniques for visualization high-dimentional data have been proposed. Majority of these techniques merely provide tools to display multidimentional data in two or three-dimentional form and do not give any inferences regarding the inner structure of the data. This severely limits the applicability of those techniques to real-world data, since it can sometimes contain thousands of attributes.\n",
    "    \n",
    "    Another approach to this problem lies in the field of dimentionality reduction. We can apply classic plotting methods (for example, scatterplots) for the data obtained by decreasing the dimention of the original dataset.  Dimentionality reduction techniques differ substantially from visualization techniques because they are aimed not to make data more visually appealing or understandable, but to preserve as much of the significant structure of the high-dimentional data as possible in its low-dimentional representation."
   ]
  },
  {
   "cell_type": "markdown",
   "metadata": {},
   "source": [
    "#### Sketch of the possible approaches:"
   ]
  },
  {
   "cell_type": "markdown",
   "metadata": {},
   "source": [
    "    As we said, there exists two possible approaches to the problem of visualization of high-dimentional data. First is to use some visualization technique for high-dimentional data and second is to apply dimentionality reduction and then plot generated attributes using classic plotting techniques for two or three-dimentional data.\n",
    "    \n",
    "    The most famous techniques for visualization of high-dimentional data are: iconographic displays such as Chernoff faces, pixel-based techniques, and those that represent the dimentions in the data as vertices in a graph. \n",
    "    \n",
    "    There is much more dimentionality reduction techniques, both linear and nonlinear ones. The most important linear dimentionality reduction techniques are PCA (Principal Component Analysis) and classical multidimentional scaling. Those two focus on keeping the low-dimentional representation of dissimilar datapoints far apart. Some famous non-linear dimentionality reduction techniques are: Sammon mapping, curvilinear component analysis, Stochastic Neighbor Embedding, Isomap, Laplacian Eigenmaps and others.\n",
    "    \n",
    "    The technique we are going to discuss is called t-SNE (t-distributed Stochastic Neighbor Embedding). It is a modification of SNE technique which is capable of capturing both local and global structure of the data by converting a high-dimentional data set into matrix of pariwise similarities of its entries. "
   ]
  }
 ],
 "metadata": {
  "kernelspec": {
   "display_name": "Python 3",
   "language": "python",
   "name": "python3"
  },
  "language_info": {
   "codemirror_mode": {
    "name": "ipython",
    "version": 3
   },
   "file_extension": ".py",
   "mimetype": "text/x-python",
   "name": "python",
   "nbconvert_exporter": "python",
   "pygments_lexer": "ipython3",
   "version": "3.6.7"
  }
 },
 "nbformat": 4,
 "nbformat_minor": 2
}
