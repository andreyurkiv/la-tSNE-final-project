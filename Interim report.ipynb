{
 "cells": [
  {
   "cell_type": "markdown",
   "metadata": {},
   "source": [
    "Please submit a 2-page account of your current progress with the final project. This must include:\n",
    "\n",
    "- a clear statement of the topic\n",
    "\n",
    "- description of the problem you will discuss\n",
    "\n",
    "- sketch of the possible approaches \n",
    "\n",
    "- short explanations of the pros and cons of your chosen method\n",
    "\n",
    "- a short discussion of the planned numerical realization"
   ]
  },
  {
   "cell_type": "markdown",
   "metadata": {},
   "source": [
    "## a clear statement of the topic"
   ]
  },
  {
   "cell_type": "markdown",
   "metadata": {},
   "source": []
  },
  {
   "cell_type": "markdown",
   "metadata": {},
   "source": [
    "## description of the problem you will discuss"
   ]
  },
  {
   "cell_type": "markdown",
   "metadata": {},
   "source": []
  },
  {
   "cell_type": "markdown",
   "metadata": {},
   "source": [
    "## sketch of the possible approaches"
   ]
  },
  {
   "cell_type": "markdown",
   "metadata": {},
   "source": []
  },
  {
   "cell_type": "markdown",
   "metadata": {},
   "source": [
    "## short explanations of the pros and cons of your chosen method"
   ]
  },
  {
   "cell_type": "markdown",
   "metadata": {},
   "source": [
    "What about ___advantages___ and ___disadvantages___ of __$t$-SNE__?\n",
    "\n",
    "The main reason for what use __$t$-SNE__ is __visualization__ of high dimentional data. Because of _\"similar objects are modeled by nearby points and dissimilar objects are modeled by distant points with high probability\"_ [[wiki]](https://en.wikipedia.org/wiki/T-distributed_stochastic_neighbor_embedding), this approache has been used for clusters dividing understanding.\n",
    "In other words, method solves _\"the crowding problem\"_.\n",
    "\n",
    "Method is inefficient with size of data samples growing, $O(n^2)$ speed (pairwise distance).\n",
    "\n",
    "Also, __$t$-SNE__ is not deterministic (stochasticity of final solution).\n",
    "\n",
    "While our method map neighbors (local) quite well, with global trends it seems to represent the whole picture not correct.\n",
    "\n",
    "Moreover, with input data dimension increasing, best linear combination in terms of variance explained are far and far away from real representing.\n",
    "\n",
    "__$t$-SNE__ can not handle incomplete data.\n",
    "\n",
    "Hyperparameters (perplexity) tuning is one more problem to deal with in a proper way.\n",
    "\n",
    "Native __$t$-SNE__ (without additional solution) does not map new, unseen samples."
   ]
  },
  {
   "cell_type": "markdown",
   "metadata": {},
   "source": [
    "## a short discussion of the planned numerical realization"
   ]
  },
  {
   "cell_type": "markdown",
   "metadata": {},
   "source": [
    "The algorithm can be divided into three logical parts:\n",
    "1. Calculation of perplexity and Gaussian kernel for the vector of current values of sigma;\n",
    "2. Calculation of pairwise similarities $p_{ij}$ in input (multidimensional) space using binary search for a given perplexity;\n",
    "3. Calculation of pairwise similarities for output (display) space, cost function, and gradient.\n",
    "\n",
    "(1.) Perplexity is hyperparameter and the authors recomendation is to chose it from 5 to 50.\n",
    "\n",
    "(2.) Similarities are calculated due to Euclidean distance, but it is not necessarily (e. g. use cosine distance instead).\n",
    "\n",
    "(3.) Gradiant in __$t$-SNE__ (Student-$t$ distribution) is more \"constrict\" for neighbours data points and try to more \"push away\" the furthers ones, even with comparison to standart __SNE__ (Gaussian distribution).\n",
    "\n",
    "All corresponding formulas will be included in final report.\n",
    "\n",
    "Our choice is to use $Python$ for implementation of method."
   ]
  }
 ],
 "metadata": {
  "kernelspec": {
   "display_name": "Python 3",
   "language": "python",
   "name": "python3"
  },
  "language_info": {
   "codemirror_mode": {
    "name": "ipython",
    "version": 3
   },
   "file_extension": ".py",
   "mimetype": "text/x-python",
   "name": "python",
   "nbconvert_exporter": "python",
   "pygments_lexer": "ipython3",
   "version": "3.6.7"
  },
  "toc": {
   "base_numbering": 1,
   "nav_menu": {},
   "number_sections": true,
   "sideBar": true,
   "skip_h1_title": false,
   "title_cell": "Table of Contents",
   "title_sidebar": "Contents",
   "toc_cell": false,
   "toc_position": {},
   "toc_section_display": true,
   "toc_window_display": false
  }
 },
 "nbformat": 4,
 "nbformat_minor": 2
}
